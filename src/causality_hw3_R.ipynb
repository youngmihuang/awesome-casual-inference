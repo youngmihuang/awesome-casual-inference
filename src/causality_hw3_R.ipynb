{
 "cells": [
  {
   "cell_type": "markdown",
   "metadata": {},
   "source": [
    "# propensity score\n",
    "* 2020/12/20\n",
    "* in python env, import R dataset doing one hot encoding for race column\n",
    "* using R kernel in jupyternotebook, example reference from @vlaskinvlad: https://github.com/vlaskinvlad/coursera-causality-crash-course/blob/master/causality_w3.ipynb"
   ]
  },
  {
   "cell_type": "code",
   "execution_count": 5,
   "metadata": {},
   "outputs": [
    {
     "name": "stderr",
     "output_type": "stream",
     "text": [
      "Loading required package: MASS\n",
      "\n",
      "## \n",
      "##  Matching (Version 4.9-7, Build Date: 2020-02-05)\n",
      "##  See http://sekhon.berkeley.edu/matching for additional documentation.\n",
      "##  Please cite software as:\n",
      "##   Jasjeet S. Sekhon. 2011. ``Multivariate and Propensity Score Matching\n",
      "##   Software with Automated Balance Optimization: The Matching package for R.''\n",
      "##   Journal of Statistical Software, 42(7): 1-52. \n",
      "##\n",
      "\n",
      "\n",
      "Loading required package: lattice\n",
      "\n"
     ]
    }
   ],
   "source": [
    "library(tableone)\n",
    "library(Matching)\n",
    "library(MatchIt)\n",
    "library(ggplot2)\n",
    "library(caret)\n",
    "library(stddiff)\n",
    "library(smd)"
   ]
  },
  {
   "cell_type": "markdown",
   "metadata": {},
   "source": [
    "## Function Pre-define"
   ]
  },
  {
   "cell_type": "code",
   "execution_count": 73,
   "metadata": {
    "collapsed": true
   },
   "outputs": [],
   "source": [
    "std_diff <- function(dfr, tcol, gcol='treat'){\n",
    "    xt <- dfr[dfr[[gcol]]==1,tcol]\n",
    "    xc <- dfr[dfr[[gcol]]==0,tcol]\n",
    "    nt = 2; nc = 2;  \n",
    "    #nt = length(xt);nc = length(xc);\n",
    "    (mean(xt) - mean(xc))/(sqrt( ((nt-1)*var(xt) + (nc-1)*var(xc))/(nt+nc-2)))\n",
    "}"
   ]
  },
  {
   "cell_type": "markdown",
   "metadata": {},
   "source": [
    "## Import data"
   ]
  },
  {
   "cell_type": "code",
   "execution_count": 9,
   "metadata": {
    "collapsed": true
   },
   "outputs": [],
   "source": [
    "# Read data\n",
    "lalonde <- read.csv(\"lalonde_for_r.csv\")"
   ]
  },
  {
   "cell_type": "code",
   "execution_count": 11,
   "metadata": {
    "scrolled": true
   },
   "outputs": [
    {
     "data": {
      "text/html": [
       "<table>\n",
       "<caption>A data.frame: 614 × 10</caption>\n",
       "<thead>\n",
       "\t<tr><th scope=col>treat</th><th scope=col>age</th><th scope=col>educ</th><th scope=col>married</th><th scope=col>nodegree</th><th scope=col>re74</th><th scope=col>re75</th><th scope=col>re78</th><th scope=col>black</th><th scope=col>hispan</th></tr>\n",
       "\t<tr><th scope=col>&lt;int&gt;</th><th scope=col>&lt;int&gt;</th><th scope=col>&lt;int&gt;</th><th scope=col>&lt;int&gt;</th><th scope=col>&lt;int&gt;</th><th scope=col>&lt;dbl&gt;</th><th scope=col>&lt;dbl&gt;</th><th scope=col>&lt;dbl&gt;</th><th scope=col>&lt;int&gt;</th><th scope=col>&lt;int&gt;</th></tr>\n",
       "</thead>\n",
       "<tbody>\n",
       "\t<tr><td>1</td><td>37</td><td>11</td><td>1</td><td>1</td><td>0</td><td>0</td><td> 9930.0460</td><td>1</td><td>0</td></tr>\n",
       "\t<tr><td>1</td><td>22</td><td> 9</td><td>0</td><td>1</td><td>0</td><td>0</td><td> 3595.8940</td><td>0</td><td>1</td></tr>\n",
       "\t<tr><td>1</td><td>30</td><td>12</td><td>0</td><td>0</td><td>0</td><td>0</td><td>24909.4500</td><td>1</td><td>0</td></tr>\n",
       "\t<tr><td>1</td><td>27</td><td>11</td><td>0</td><td>1</td><td>0</td><td>0</td><td> 7506.1460</td><td>1</td><td>0</td></tr>\n",
       "\t<tr><td>1</td><td>33</td><td> 8</td><td>0</td><td>1</td><td>0</td><td>0</td><td>  289.7899</td><td>1</td><td>0</td></tr>\n",
       "\t<tr><td>1</td><td>22</td><td> 9</td><td>0</td><td>1</td><td>0</td><td>0</td><td> 4056.4940</td><td>1</td><td>0</td></tr>\n",
       "\t<tr><td>1</td><td>23</td><td>12</td><td>0</td><td>0</td><td>0</td><td>0</td><td>    0.0000</td><td>1</td><td>0</td></tr>\n",
       "\t<tr><td>1</td><td>32</td><td>11</td><td>0</td><td>1</td><td>0</td><td>0</td><td> 8472.1580</td><td>1</td><td>0</td></tr>\n",
       "\t<tr><td>1</td><td>22</td><td>16</td><td>0</td><td>0</td><td>0</td><td>0</td><td> 2164.0220</td><td>1</td><td>0</td></tr>\n",
       "\t<tr><td>1</td><td>33</td><td>12</td><td>1</td><td>0</td><td>0</td><td>0</td><td>12418.0700</td><td>0</td><td>0</td></tr>\n",
       "\t<tr><td>1</td><td>19</td><td> 9</td><td>0</td><td>1</td><td>0</td><td>0</td><td> 8173.9080</td><td>1</td><td>0</td></tr>\n",
       "\t<tr><td>1</td><td>21</td><td>13</td><td>0</td><td>0</td><td>0</td><td>0</td><td>17094.6400</td><td>1</td><td>0</td></tr>\n",
       "\t<tr><td>1</td><td>18</td><td> 8</td><td>0</td><td>1</td><td>0</td><td>0</td><td>    0.0000</td><td>1</td><td>0</td></tr>\n",
       "\t<tr><td>1</td><td>27</td><td>10</td><td>1</td><td>1</td><td>0</td><td>0</td><td>18739.9300</td><td>1</td><td>0</td></tr>\n",
       "\t<tr><td>1</td><td>17</td><td> 7</td><td>0</td><td>1</td><td>0</td><td>0</td><td> 3023.8790</td><td>1</td><td>0</td></tr>\n",
       "\t<tr><td>1</td><td>19</td><td>10</td><td>0</td><td>1</td><td>0</td><td>0</td><td> 3228.5030</td><td>1</td><td>0</td></tr>\n",
       "\t<tr><td>1</td><td>27</td><td>13</td><td>0</td><td>0</td><td>0</td><td>0</td><td>14581.8600</td><td>1</td><td>0</td></tr>\n",
       "\t<tr><td>1</td><td>23</td><td>10</td><td>0</td><td>1</td><td>0</td><td>0</td><td> 7693.4000</td><td>1</td><td>0</td></tr>\n",
       "\t<tr><td>1</td><td>40</td><td>12</td><td>0</td><td>0</td><td>0</td><td>0</td><td>10804.3200</td><td>1</td><td>0</td></tr>\n",
       "\t<tr><td>1</td><td>26</td><td>12</td><td>0</td><td>0</td><td>0</td><td>0</td><td>10747.3500</td><td>1</td><td>0</td></tr>\n",
       "\t<tr><td>1</td><td>23</td><td>11</td><td>0</td><td>1</td><td>0</td><td>0</td><td>    0.0000</td><td>1</td><td>0</td></tr>\n",
       "\t<tr><td>1</td><td>41</td><td>14</td><td>0</td><td>0</td><td>0</td><td>0</td><td> 5149.5010</td><td>0</td><td>0</td></tr>\n",
       "\t<tr><td>1</td><td>38</td><td> 9</td><td>0</td><td>1</td><td>0</td><td>0</td><td> 6408.9500</td><td>0</td><td>0</td></tr>\n",
       "\t<tr><td>1</td><td>24</td><td>11</td><td>0</td><td>1</td><td>0</td><td>0</td><td> 1991.4000</td><td>1</td><td>0</td></tr>\n",
       "\t<tr><td>1</td><td>18</td><td>10</td><td>0</td><td>1</td><td>0</td><td>0</td><td>11163.1700</td><td>1</td><td>0</td></tr>\n",
       "\t<tr><td>1</td><td>29</td><td>11</td><td>1</td><td>1</td><td>0</td><td>0</td><td> 9642.9990</td><td>1</td><td>0</td></tr>\n",
       "\t<tr><td>1</td><td>25</td><td>11</td><td>0</td><td>1</td><td>0</td><td>0</td><td> 9897.0490</td><td>1</td><td>0</td></tr>\n",
       "\t<tr><td>1</td><td>27</td><td>10</td><td>0</td><td>1</td><td>0</td><td>0</td><td>11142.8700</td><td>0</td><td>1</td></tr>\n",
       "\t<tr><td>1</td><td>17</td><td>10</td><td>0</td><td>1</td><td>0</td><td>0</td><td>16218.0400</td><td>1</td><td>0</td></tr>\n",
       "\t<tr><td>1</td><td>24</td><td>11</td><td>0</td><td>1</td><td>0</td><td>0</td><td>  995.7002</td><td>1</td><td>0</td></tr>\n",
       "\t<tr><td>⋮</td><td>⋮</td><td>⋮</td><td>⋮</td><td>⋮</td><td>⋮</td><td>⋮</td><td>⋮</td><td>⋮</td><td>⋮</td></tr>\n",
       "\t<tr><td>0</td><td>37</td><td> 8</td><td>0</td><td>1</td><td>0</td><td>0</td><td>  648.7220</td><td>1</td><td>0</td></tr>\n",
       "\t<tr><td>0</td><td>17</td><td>10</td><td>0</td><td>1</td><td>0</td><td>0</td><td> 1053.6190</td><td>1</td><td>0</td></tr>\n",
       "\t<tr><td>0</td><td>16</td><td> 8</td><td>0</td><td>1</td><td>0</td><td>0</td><td>    0.0000</td><td>0</td><td>0</td></tr>\n",
       "\t<tr><td>0</td><td>48</td><td>12</td><td>1</td><td>0</td><td>0</td><td>0</td><td> 1491.0260</td><td>0</td><td>0</td></tr>\n",
       "\t<tr><td>0</td><td>55</td><td> 7</td><td>0</td><td>1</td><td>0</td><td>0</td><td>    0.0000</td><td>0</td><td>0</td></tr>\n",
       "\t<tr><td>0</td><td>21</td><td>15</td><td>0</td><td>0</td><td>0</td><td>0</td><td>    0.0000</td><td>0</td><td>0</td></tr>\n",
       "\t<tr><td>0</td><td>16</td><td>10</td><td>0</td><td>1</td><td>0</td><td>0</td><td> 1730.4180</td><td>1</td><td>0</td></tr>\n",
       "\t<tr><td>0</td><td>23</td><td>12</td><td>0</td><td>0</td><td>0</td><td>0</td><td> 3902.6760</td><td>0</td><td>0</td></tr>\n",
       "\t<tr><td>0</td><td>46</td><td>11</td><td>1</td><td>1</td><td>0</td><td>0</td><td>    0.0000</td><td>1</td><td>0</td></tr>\n",
       "\t<tr><td>0</td><td>17</td><td>10</td><td>0</td><td>1</td><td>0</td><td>0</td><td>14942.7700</td><td>0</td><td>0</td></tr>\n",
       "\t<tr><td>0</td><td>42</td><td>16</td><td>0</td><td>0</td><td>0</td><td>0</td><td>23764.8000</td><td>0</td><td>0</td></tr>\n",
       "\t<tr><td>0</td><td>18</td><td>10</td><td>0</td><td>1</td><td>0</td><td>0</td><td> 5306.5160</td><td>1</td><td>0</td></tr>\n",
       "\t<tr><td>0</td><td>53</td><td>12</td><td>0</td><td>0</td><td>0</td><td>0</td><td>    0.0000</td><td>1</td><td>0</td></tr>\n",
       "\t<tr><td>0</td><td>17</td><td>10</td><td>1</td><td>1</td><td>0</td><td>0</td><td> 3859.8220</td><td>0</td><td>0</td></tr>\n",
       "\t<tr><td>0</td><td>17</td><td> 6</td><td>0</td><td>1</td><td>0</td><td>0</td><td>    0.0000</td><td>0</td><td>0</td></tr>\n",
       "\t<tr><td>0</td><td>43</td><td> 6</td><td>1</td><td>1</td><td>0</td><td>0</td><td>    0.0000</td><td>0</td><td>0</td></tr>\n",
       "\t<tr><td>0</td><td>34</td><td>12</td><td>0</td><td>0</td><td>0</td><td>0</td><td>    0.0000</td><td>1</td><td>0</td></tr>\n",
       "\t<tr><td>0</td><td>16</td><td> 8</td><td>0</td><td>1</td><td>0</td><td>0</td><td>12242.9600</td><td>0</td><td>1</td></tr>\n",
       "\t<tr><td>0</td><td>27</td><td>12</td><td>1</td><td>0</td><td>0</td><td>0</td><td> 1533.8800</td><td>0</td><td>0</td></tr>\n",
       "\t<tr><td>0</td><td>51</td><td> 4</td><td>0</td><td>1</td><td>0</td><td>0</td><td>    0.0000</td><td>1</td><td>0</td></tr>\n",
       "\t<tr><td>0</td><td>39</td><td> 2</td><td>1</td><td>1</td><td>0</td><td>0</td><td>  964.9555</td><td>1</td><td>0</td></tr>\n",
       "\t<tr><td>0</td><td>55</td><td> 8</td><td>1</td><td>1</td><td>0</td><td>0</td><td>    0.0000</td><td>0</td><td>0</td></tr>\n",
       "\t<tr><td>0</td><td>16</td><td> 9</td><td>0</td><td>1</td><td>0</td><td>0</td><td> 5551.8190</td><td>0</td><td>0</td></tr>\n",
       "\t<tr><td>0</td><td>27</td><td>10</td><td>0</td><td>1</td><td>0</td><td>0</td><td> 7543.7940</td><td>1</td><td>0</td></tr>\n",
       "\t<tr><td>0</td><td>25</td><td>14</td><td>0</td><td>0</td><td>0</td><td>0</td><td>    0.0000</td><td>0</td><td>0</td></tr>\n",
       "\t<tr><td>0</td><td>18</td><td>11</td><td>0</td><td>1</td><td>0</td><td>0</td><td>10150.5000</td><td>0</td><td>0</td></tr>\n",
       "\t<tr><td>0</td><td>24</td><td> 1</td><td>1</td><td>1</td><td>0</td><td>0</td><td>19464.6100</td><td>0</td><td>1</td></tr>\n",
       "\t<tr><td>0</td><td>21</td><td>18</td><td>0</td><td>0</td><td>0</td><td>0</td><td>    0.0000</td><td>0</td><td>0</td></tr>\n",
       "\t<tr><td>0</td><td>32</td><td> 5</td><td>1</td><td>1</td><td>0</td><td>0</td><td>  187.6713</td><td>1</td><td>0</td></tr>\n",
       "\t<tr><td>0</td><td>16</td><td> 9</td><td>0</td><td>1</td><td>0</td><td>0</td><td> 1495.4590</td><td>0</td><td>0</td></tr>\n",
       "</tbody>\n",
       "</table>\n"
      ],
      "text/latex": [
       "A data.frame: 614 × 10\n",
       "\\begin{tabular}{llllllllll}\n",
       " treat & age & educ & married & nodegree & re74 & re75 & re78 & black & hispan\\\\\n",
       " <int> & <int> & <int> & <int> & <int> & <dbl> & <dbl> & <dbl> & <int> & <int>\\\\\n",
       "\\hline\n",
       "\t 1 & 37 & 11 & 1 & 1 & 0 & 0 &  9930.0460 & 1 & 0\\\\\n",
       "\t 1 & 22 &  9 & 0 & 1 & 0 & 0 &  3595.8940 & 0 & 1\\\\\n",
       "\t 1 & 30 & 12 & 0 & 0 & 0 & 0 & 24909.4500 & 1 & 0\\\\\n",
       "\t 1 & 27 & 11 & 0 & 1 & 0 & 0 &  7506.1460 & 1 & 0\\\\\n",
       "\t 1 & 33 &  8 & 0 & 1 & 0 & 0 &   289.7899 & 1 & 0\\\\\n",
       "\t 1 & 22 &  9 & 0 & 1 & 0 & 0 &  4056.4940 & 1 & 0\\\\\n",
       "\t 1 & 23 & 12 & 0 & 0 & 0 & 0 &     0.0000 & 1 & 0\\\\\n",
       "\t 1 & 32 & 11 & 0 & 1 & 0 & 0 &  8472.1580 & 1 & 0\\\\\n",
       "\t 1 & 22 & 16 & 0 & 0 & 0 & 0 &  2164.0220 & 1 & 0\\\\\n",
       "\t 1 & 33 & 12 & 1 & 0 & 0 & 0 & 12418.0700 & 0 & 0\\\\\n",
       "\t 1 & 19 &  9 & 0 & 1 & 0 & 0 &  8173.9080 & 1 & 0\\\\\n",
       "\t 1 & 21 & 13 & 0 & 0 & 0 & 0 & 17094.6400 & 1 & 0\\\\\n",
       "\t 1 & 18 &  8 & 0 & 1 & 0 & 0 &     0.0000 & 1 & 0\\\\\n",
       "\t 1 & 27 & 10 & 1 & 1 & 0 & 0 & 18739.9300 & 1 & 0\\\\\n",
       "\t 1 & 17 &  7 & 0 & 1 & 0 & 0 &  3023.8790 & 1 & 0\\\\\n",
       "\t 1 & 19 & 10 & 0 & 1 & 0 & 0 &  3228.5030 & 1 & 0\\\\\n",
       "\t 1 & 27 & 13 & 0 & 0 & 0 & 0 & 14581.8600 & 1 & 0\\\\\n",
       "\t 1 & 23 & 10 & 0 & 1 & 0 & 0 &  7693.4000 & 1 & 0\\\\\n",
       "\t 1 & 40 & 12 & 0 & 0 & 0 & 0 & 10804.3200 & 1 & 0\\\\\n",
       "\t 1 & 26 & 12 & 0 & 0 & 0 & 0 & 10747.3500 & 1 & 0\\\\\n",
       "\t 1 & 23 & 11 & 0 & 1 & 0 & 0 &     0.0000 & 1 & 0\\\\\n",
       "\t 1 & 41 & 14 & 0 & 0 & 0 & 0 &  5149.5010 & 0 & 0\\\\\n",
       "\t 1 & 38 &  9 & 0 & 1 & 0 & 0 &  6408.9500 & 0 & 0\\\\\n",
       "\t 1 & 24 & 11 & 0 & 1 & 0 & 0 &  1991.4000 & 1 & 0\\\\\n",
       "\t 1 & 18 & 10 & 0 & 1 & 0 & 0 & 11163.1700 & 1 & 0\\\\\n",
       "\t 1 & 29 & 11 & 1 & 1 & 0 & 0 &  9642.9990 & 1 & 0\\\\\n",
       "\t 1 & 25 & 11 & 0 & 1 & 0 & 0 &  9897.0490 & 1 & 0\\\\\n",
       "\t 1 & 27 & 10 & 0 & 1 & 0 & 0 & 11142.8700 & 0 & 1\\\\\n",
       "\t 1 & 17 & 10 & 0 & 1 & 0 & 0 & 16218.0400 & 1 & 0\\\\\n",
       "\t 1 & 24 & 11 & 0 & 1 & 0 & 0 &   995.7002 & 1 & 0\\\\\n",
       "\t ⋮ & ⋮ & ⋮ & ⋮ & ⋮ & ⋮ & ⋮ & ⋮ & ⋮ & ⋮\\\\\n",
       "\t 0 & 37 &  8 & 0 & 1 & 0 & 0 &   648.7220 & 1 & 0\\\\\n",
       "\t 0 & 17 & 10 & 0 & 1 & 0 & 0 &  1053.6190 & 1 & 0\\\\\n",
       "\t 0 & 16 &  8 & 0 & 1 & 0 & 0 &     0.0000 & 0 & 0\\\\\n",
       "\t 0 & 48 & 12 & 1 & 0 & 0 & 0 &  1491.0260 & 0 & 0\\\\\n",
       "\t 0 & 55 &  7 & 0 & 1 & 0 & 0 &     0.0000 & 0 & 0\\\\\n",
       "\t 0 & 21 & 15 & 0 & 0 & 0 & 0 &     0.0000 & 0 & 0\\\\\n",
       "\t 0 & 16 & 10 & 0 & 1 & 0 & 0 &  1730.4180 & 1 & 0\\\\\n",
       "\t 0 & 23 & 12 & 0 & 0 & 0 & 0 &  3902.6760 & 0 & 0\\\\\n",
       "\t 0 & 46 & 11 & 1 & 1 & 0 & 0 &     0.0000 & 1 & 0\\\\\n",
       "\t 0 & 17 & 10 & 0 & 1 & 0 & 0 & 14942.7700 & 0 & 0\\\\\n",
       "\t 0 & 42 & 16 & 0 & 0 & 0 & 0 & 23764.8000 & 0 & 0\\\\\n",
       "\t 0 & 18 & 10 & 0 & 1 & 0 & 0 &  5306.5160 & 1 & 0\\\\\n",
       "\t 0 & 53 & 12 & 0 & 0 & 0 & 0 &     0.0000 & 1 & 0\\\\\n",
       "\t 0 & 17 & 10 & 1 & 1 & 0 & 0 &  3859.8220 & 0 & 0\\\\\n",
       "\t 0 & 17 &  6 & 0 & 1 & 0 & 0 &     0.0000 & 0 & 0\\\\\n",
       "\t 0 & 43 &  6 & 1 & 1 & 0 & 0 &     0.0000 & 0 & 0\\\\\n",
       "\t 0 & 34 & 12 & 0 & 0 & 0 & 0 &     0.0000 & 1 & 0\\\\\n",
       "\t 0 & 16 &  8 & 0 & 1 & 0 & 0 & 12242.9600 & 0 & 1\\\\\n",
       "\t 0 & 27 & 12 & 1 & 0 & 0 & 0 &  1533.8800 & 0 & 0\\\\\n",
       "\t 0 & 51 &  4 & 0 & 1 & 0 & 0 &     0.0000 & 1 & 0\\\\\n",
       "\t 0 & 39 &  2 & 1 & 1 & 0 & 0 &   964.9555 & 1 & 0\\\\\n",
       "\t 0 & 55 &  8 & 1 & 1 & 0 & 0 &     0.0000 & 0 & 0\\\\\n",
       "\t 0 & 16 &  9 & 0 & 1 & 0 & 0 &  5551.8190 & 0 & 0\\\\\n",
       "\t 0 & 27 & 10 & 0 & 1 & 0 & 0 &  7543.7940 & 1 & 0\\\\\n",
       "\t 0 & 25 & 14 & 0 & 0 & 0 & 0 &     0.0000 & 0 & 0\\\\\n",
       "\t 0 & 18 & 11 & 0 & 1 & 0 & 0 & 10150.5000 & 0 & 0\\\\\n",
       "\t 0 & 24 &  1 & 1 & 1 & 0 & 0 & 19464.6100 & 0 & 1\\\\\n",
       "\t 0 & 21 & 18 & 0 & 0 & 0 & 0 &     0.0000 & 0 & 0\\\\\n",
       "\t 0 & 32 &  5 & 1 & 1 & 0 & 0 &   187.6713 & 1 & 0\\\\\n",
       "\t 0 & 16 &  9 & 0 & 1 & 0 & 0 &  1495.4590 & 0 & 0\\\\\n",
       "\\end{tabular}\n"
      ],
      "text/markdown": [
       "\n",
       "A data.frame: 614 × 10\n",
       "\n",
       "| treat &lt;int&gt; | age &lt;int&gt; | educ &lt;int&gt; | married &lt;int&gt; | nodegree &lt;int&gt; | re74 &lt;dbl&gt; | re75 &lt;dbl&gt; | re78 &lt;dbl&gt; | black &lt;int&gt; | hispan &lt;int&gt; |\n",
       "|---|---|---|---|---|---|---|---|---|---|\n",
       "| 1 | 37 | 11 | 1 | 1 | 0 | 0 |  9930.0460 | 1 | 0 |\n",
       "| 1 | 22 |  9 | 0 | 1 | 0 | 0 |  3595.8940 | 0 | 1 |\n",
       "| 1 | 30 | 12 | 0 | 0 | 0 | 0 | 24909.4500 | 1 | 0 |\n",
       "| 1 | 27 | 11 | 0 | 1 | 0 | 0 |  7506.1460 | 1 | 0 |\n",
       "| 1 | 33 |  8 | 0 | 1 | 0 | 0 |   289.7899 | 1 | 0 |\n",
       "| 1 | 22 |  9 | 0 | 1 | 0 | 0 |  4056.4940 | 1 | 0 |\n",
       "| 1 | 23 | 12 | 0 | 0 | 0 | 0 |     0.0000 | 1 | 0 |\n",
       "| 1 | 32 | 11 | 0 | 1 | 0 | 0 |  8472.1580 | 1 | 0 |\n",
       "| 1 | 22 | 16 | 0 | 0 | 0 | 0 |  2164.0220 | 1 | 0 |\n",
       "| 1 | 33 | 12 | 1 | 0 | 0 | 0 | 12418.0700 | 0 | 0 |\n",
       "| 1 | 19 |  9 | 0 | 1 | 0 | 0 |  8173.9080 | 1 | 0 |\n",
       "| 1 | 21 | 13 | 0 | 0 | 0 | 0 | 17094.6400 | 1 | 0 |\n",
       "| 1 | 18 |  8 | 0 | 1 | 0 | 0 |     0.0000 | 1 | 0 |\n",
       "| 1 | 27 | 10 | 1 | 1 | 0 | 0 | 18739.9300 | 1 | 0 |\n",
       "| 1 | 17 |  7 | 0 | 1 | 0 | 0 |  3023.8790 | 1 | 0 |\n",
       "| 1 | 19 | 10 | 0 | 1 | 0 | 0 |  3228.5030 | 1 | 0 |\n",
       "| 1 | 27 | 13 | 0 | 0 | 0 | 0 | 14581.8600 | 1 | 0 |\n",
       "| 1 | 23 | 10 | 0 | 1 | 0 | 0 |  7693.4000 | 1 | 0 |\n",
       "| 1 | 40 | 12 | 0 | 0 | 0 | 0 | 10804.3200 | 1 | 0 |\n",
       "| 1 | 26 | 12 | 0 | 0 | 0 | 0 | 10747.3500 | 1 | 0 |\n",
       "| 1 | 23 | 11 | 0 | 1 | 0 | 0 |     0.0000 | 1 | 0 |\n",
       "| 1 | 41 | 14 | 0 | 0 | 0 | 0 |  5149.5010 | 0 | 0 |\n",
       "| 1 | 38 |  9 | 0 | 1 | 0 | 0 |  6408.9500 | 0 | 0 |\n",
       "| 1 | 24 | 11 | 0 | 1 | 0 | 0 |  1991.4000 | 1 | 0 |\n",
       "| 1 | 18 | 10 | 0 | 1 | 0 | 0 | 11163.1700 | 1 | 0 |\n",
       "| 1 | 29 | 11 | 1 | 1 | 0 | 0 |  9642.9990 | 1 | 0 |\n",
       "| 1 | 25 | 11 | 0 | 1 | 0 | 0 |  9897.0490 | 1 | 0 |\n",
       "| 1 | 27 | 10 | 0 | 1 | 0 | 0 | 11142.8700 | 0 | 1 |\n",
       "| 1 | 17 | 10 | 0 | 1 | 0 | 0 | 16218.0400 | 1 | 0 |\n",
       "| 1 | 24 | 11 | 0 | 1 | 0 | 0 |   995.7002 | 1 | 0 |\n",
       "| ⋮ | ⋮ | ⋮ | ⋮ | ⋮ | ⋮ | ⋮ | ⋮ | ⋮ | ⋮ |\n",
       "| 0 | 37 |  8 | 0 | 1 | 0 | 0 |   648.7220 | 1 | 0 |\n",
       "| 0 | 17 | 10 | 0 | 1 | 0 | 0 |  1053.6190 | 1 | 0 |\n",
       "| 0 | 16 |  8 | 0 | 1 | 0 | 0 |     0.0000 | 0 | 0 |\n",
       "| 0 | 48 | 12 | 1 | 0 | 0 | 0 |  1491.0260 | 0 | 0 |\n",
       "| 0 | 55 |  7 | 0 | 1 | 0 | 0 |     0.0000 | 0 | 0 |\n",
       "| 0 | 21 | 15 | 0 | 0 | 0 | 0 |     0.0000 | 0 | 0 |\n",
       "| 0 | 16 | 10 | 0 | 1 | 0 | 0 |  1730.4180 | 1 | 0 |\n",
       "| 0 | 23 | 12 | 0 | 0 | 0 | 0 |  3902.6760 | 0 | 0 |\n",
       "| 0 | 46 | 11 | 1 | 1 | 0 | 0 |     0.0000 | 1 | 0 |\n",
       "| 0 | 17 | 10 | 0 | 1 | 0 | 0 | 14942.7700 | 0 | 0 |\n",
       "| 0 | 42 | 16 | 0 | 0 | 0 | 0 | 23764.8000 | 0 | 0 |\n",
       "| 0 | 18 | 10 | 0 | 1 | 0 | 0 |  5306.5160 | 1 | 0 |\n",
       "| 0 | 53 | 12 | 0 | 0 | 0 | 0 |     0.0000 | 1 | 0 |\n",
       "| 0 | 17 | 10 | 1 | 1 | 0 | 0 |  3859.8220 | 0 | 0 |\n",
       "| 0 | 17 |  6 | 0 | 1 | 0 | 0 |     0.0000 | 0 | 0 |\n",
       "| 0 | 43 |  6 | 1 | 1 | 0 | 0 |     0.0000 | 0 | 0 |\n",
       "| 0 | 34 | 12 | 0 | 0 | 0 | 0 |     0.0000 | 1 | 0 |\n",
       "| 0 | 16 |  8 | 0 | 1 | 0 | 0 | 12242.9600 | 0 | 1 |\n",
       "| 0 | 27 | 12 | 1 | 0 | 0 | 0 |  1533.8800 | 0 | 0 |\n",
       "| 0 | 51 |  4 | 0 | 1 | 0 | 0 |     0.0000 | 1 | 0 |\n",
       "| 0 | 39 |  2 | 1 | 1 | 0 | 0 |   964.9555 | 1 | 0 |\n",
       "| 0 | 55 |  8 | 1 | 1 | 0 | 0 |     0.0000 | 0 | 0 |\n",
       "| 0 | 16 |  9 | 0 | 1 | 0 | 0 |  5551.8190 | 0 | 0 |\n",
       "| 0 | 27 | 10 | 0 | 1 | 0 | 0 |  7543.7940 | 1 | 0 |\n",
       "| 0 | 25 | 14 | 0 | 0 | 0 | 0 |     0.0000 | 0 | 0 |\n",
       "| 0 | 18 | 11 | 0 | 1 | 0 | 0 | 10150.5000 | 0 | 0 |\n",
       "| 0 | 24 |  1 | 1 | 1 | 0 | 0 | 19464.6100 | 0 | 1 |\n",
       "| 0 | 21 | 18 | 0 | 0 | 0 | 0 |     0.0000 | 0 | 0 |\n",
       "| 0 | 32 |  5 | 1 | 1 | 0 | 0 |   187.6713 | 1 | 0 |\n",
       "| 0 | 16 |  9 | 0 | 1 | 0 | 0 |  1495.4590 | 0 | 0 |\n",
       "\n"
      ],
      "text/plain": [
       "    treat age educ married nodegree re74 re75 re78       black hispan\n",
       "1   1     37  11   1       1        0    0     9930.0460 1     0     \n",
       "2   1     22   9   0       1        0    0     3595.8940 0     1     \n",
       "3   1     30  12   0       0        0    0    24909.4500 1     0     \n",
       "4   1     27  11   0       1        0    0     7506.1460 1     0     \n",
       "5   1     33   8   0       1        0    0      289.7899 1     0     \n",
       "6   1     22   9   0       1        0    0     4056.4940 1     0     \n",
       "7   1     23  12   0       0        0    0        0.0000 1     0     \n",
       "8   1     32  11   0       1        0    0     8472.1580 1     0     \n",
       "9   1     22  16   0       0        0    0     2164.0220 1     0     \n",
       "10  1     33  12   1       0        0    0    12418.0700 0     0     \n",
       "11  1     19   9   0       1        0    0     8173.9080 1     0     \n",
       "12  1     21  13   0       0        0    0    17094.6400 1     0     \n",
       "13  1     18   8   0       1        0    0        0.0000 1     0     \n",
       "14  1     27  10   1       1        0    0    18739.9300 1     0     \n",
       "15  1     17   7   0       1        0    0     3023.8790 1     0     \n",
       "16  1     19  10   0       1        0    0     3228.5030 1     0     \n",
       "17  1     27  13   0       0        0    0    14581.8600 1     0     \n",
       "18  1     23  10   0       1        0    0     7693.4000 1     0     \n",
       "19  1     40  12   0       0        0    0    10804.3200 1     0     \n",
       "20  1     26  12   0       0        0    0    10747.3500 1     0     \n",
       "21  1     23  11   0       1        0    0        0.0000 1     0     \n",
       "22  1     41  14   0       0        0    0     5149.5010 0     0     \n",
       "23  1     38   9   0       1        0    0     6408.9500 0     0     \n",
       "24  1     24  11   0       1        0    0     1991.4000 1     0     \n",
       "25  1     18  10   0       1        0    0    11163.1700 1     0     \n",
       "26  1     29  11   1       1        0    0     9642.9990 1     0     \n",
       "27  1     25  11   0       1        0    0     9897.0490 1     0     \n",
       "28  1     27  10   0       1        0    0    11142.8700 0     1     \n",
       "29  1     17  10   0       1        0    0    16218.0400 1     0     \n",
       "30  1     24  11   0       1        0    0      995.7002 1     0     \n",
       "⋮   ⋮     ⋮   ⋮    ⋮       ⋮        ⋮    ⋮    ⋮          ⋮     ⋮     \n",
       "585 0     37   8   0       1        0    0      648.7220 1     0     \n",
       "586 0     17  10   0       1        0    0     1053.6190 1     0     \n",
       "587 0     16   8   0       1        0    0        0.0000 0     0     \n",
       "588 0     48  12   1       0        0    0     1491.0260 0     0     \n",
       "589 0     55   7   0       1        0    0        0.0000 0     0     \n",
       "590 0     21  15   0       0        0    0        0.0000 0     0     \n",
       "591 0     16  10   0       1        0    0     1730.4180 1     0     \n",
       "592 0     23  12   0       0        0    0     3902.6760 0     0     \n",
       "593 0     46  11   1       1        0    0        0.0000 1     0     \n",
       "594 0     17  10   0       1        0    0    14942.7700 0     0     \n",
       "595 0     42  16   0       0        0    0    23764.8000 0     0     \n",
       "596 0     18  10   0       1        0    0     5306.5160 1     0     \n",
       "597 0     53  12   0       0        0    0        0.0000 1     0     \n",
       "598 0     17  10   1       1        0    0     3859.8220 0     0     \n",
       "599 0     17   6   0       1        0    0        0.0000 0     0     \n",
       "600 0     43   6   1       1        0    0        0.0000 0     0     \n",
       "601 0     34  12   0       0        0    0        0.0000 1     0     \n",
       "602 0     16   8   0       1        0    0    12242.9600 0     1     \n",
       "603 0     27  12   1       0        0    0     1533.8800 0     0     \n",
       "604 0     51   4   0       1        0    0        0.0000 1     0     \n",
       "605 0     39   2   1       1        0    0      964.9555 1     0     \n",
       "606 0     55   8   1       1        0    0        0.0000 0     0     \n",
       "607 0     16   9   0       1        0    0     5551.8190 0     0     \n",
       "608 0     27  10   0       1        0    0     7543.7940 1     0     \n",
       "609 0     25  14   0       0        0    0        0.0000 0     0     \n",
       "610 0     18  11   0       1        0    0    10150.5000 0     0     \n",
       "611 0     24   1   1       1        0    0    19464.6100 0     1     \n",
       "612 0     21  18   0       0        0    0        0.0000 0     0     \n",
       "613 0     32   5   1       1        0    0      187.6713 1     0     \n",
       "614 0     16   9   0       1        0    0     1495.4590 0     0     "
      ]
     },
     "metadata": {},
     "output_type": "display_data"
    }
   ],
   "source": [
    "lalonde"
   ]
  },
  {
   "cell_type": "code",
   "execution_count": 13,
   "metadata": {},
   "outputs": [
    {
     "data": {
      "text/html": [
       "-0.719491962472904"
      ],
      "text/latex": [
       "-0.719491962472904"
      ],
      "text/markdown": [
       "-0.719491962472904"
      ],
      "text/plain": [
       "[1] -0.719492"
      ]
     },
     "metadata": {},
     "output_type": "display_data"
    }
   ],
   "source": [
    "# Q1 \n",
    "# standardized differences for all of the confounding variables (pre-matching). What is the standardized difference for married (to nearest hundredth\n",
    "# smd = (x_1_mean - x_0_mean) / [(S_1^2 + S_0^2)/2]^1/2  -- difference in groups\n",
    "\n",
    "xt = lalonde[lalonde$treat==1,]$married\n",
    "xc = lalonde[lalonde$treat==0,]$married\n",
    "#nt = length(xt);nc = length(xc);\n",
    "nt = 2; nc = 2;\n",
    "(mean(xt) - mean(xc))/(sqrt( ((nt-1)*var(xt) + (nc-1)*var(xc))/(nt+nc-2)))"
   ]
  },
  {
   "cell_type": "code",
   "execution_count": 14,
   "metadata": {},
   "outputs": [
    {
     "data": {
      "text/html": [
       "-635.026212037422"
      ],
      "text/latex": [
       "-635.026212037422"
      ],
      "text/markdown": [
       "-635.026212037422"
      ],
      "text/plain": [
       "[1] -635.0262"
      ]
     },
     "metadata": {},
     "output_type": "display_data"
    }
   ],
   "source": [
    "# Q2\n",
    "# What is the raw (unadjusted) mean of real earnings in 1978 for treated subjects minus the mean of real earnings in 1978 for untreated subjects?\n",
    "mean(lalonde[lalonde$treat==1,]$re78) - mean(lalonde[lalonde$treat==0,]$re78)"
   ]
  },
  {
   "cell_type": "code",
   "execution_count": 15,
   "metadata": {},
   "outputs": [
    {
     "data": {
      "text/html": [
       "0.00908019323660914"
      ],
      "text/latex": [
       "0.00908019323660914"
      ],
      "text/markdown": [
       "0.00908019323660914"
      ],
      "text/plain": [
       "[1] 0.009080193"
      ]
     },
     "metadata": {},
     "output_type": "display_data"
    },
    {
     "data": {
      "text/html": [
       "0.853152844232331"
      ],
      "text/latex": [
       "0.853152844232331"
      ],
      "text/markdown": [
       "0.853152844232331"
      ],
      "text/plain": [
       "[1] 0.8531528"
      ]
     },
     "metadata": {},
     "output_type": "display_data"
    }
   ],
   "source": [
    "# Q3\n",
    "# What are the minimum and maximum values of the estimated propensity score?\n",
    "# Fit a propensity score model. Use a logistic regression model, where the outcome is treatment. \n",
    "# Include the 8 confounding variables in the model as predictors, with no interaction terms or non-linear terms (such as squared terms). Obtain the propensity score for each subject.\n",
    "\n",
    "fit <- glm(treat ~ age + educ + black + hispan + married + nodegree + re74 + re75,\n",
    "           data=lalonde, family = binomial(link = \"logit\"))\n",
    "prop_hat <- predict(fit, newdata = lalonde, type=\"response\")\n",
    "lalonde$pscore <- prop_hat\n",
    "min(prop_hat); max(prop_hat)"
   ]
  },
  {
   "cell_type": "code",
   "execution_count": 76,
   "metadata": {
    "collapsed": true
   },
   "outputs": [],
   "source": [
    "# Q4\n",
    "# Now carry out propensity score matching using the Match function.\n",
    "# Match on the propensity score itself, not logit of the propensity score. Obtain the standardized differences for the matched data.\n",
    "# What is the standardized difference for married? 經過 propensity 匹配之後，有無結婚這個因子與是否接受 treatment 的 stddiff\n",
    "# 傾向評分匹配: http://www.360doc.com/content/17/0728/02/2856980_674673483.shtml\n",
    "# 在觀察研究中，由於種種原因，數據偏差（bias）和混雜變量（confounding variable）較多，傾向評分匹配的方法正是為了減少這些偏差和混雜變量的影響，\n",
    "# 以便對實驗組和對照組進行更合理的比較。\n",
    "\n",
    "set.seed(931139)\n",
    "pmatch <- Match(Tr = lalonde$treat, M=1, X=lalonde$pscore, replace=FALSE, caliper=NaN)\n",
    "# Extract matched data\n",
    "matched <- lalonde[unlist(pmatch[c('index.treated', 'index.control')]), ]   # c = combine, concatanate 之意思"
   ]
  },
  {
   "cell_type": "code",
   "execution_count": 77,
   "metadata": {
    "scrolled": true
   },
   "outputs": [
    {
     "data": {
      "text/html": [
       "-0.0272363649293081"
      ],
      "text/latex": [
       "-0.0272363649293081"
      ],
      "text/markdown": [
       "-0.0272363649293081"
      ],
      "text/plain": [
       "[1] -0.02723636"
      ]
     },
     "metadata": {},
     "output_type": "display_data"
    }
   ],
   "source": [
    "# stddiff 標準化差; stddiff.I, stddiff.u 代表 95% 信賴區間\n",
    "std_diff(matched, 'married', 'treat')"
   ]
  },
  {
   "cell_type": "code",
   "execution_count": 78,
   "metadata": {},
   "outputs": [
    {
     "data": {
      "text/html": [
       "<ol>\n",
       "\t<li>0.0583794556898233</li>\n",
       "\t<li>0.127208708001512</li>\n",
       "\t<li>-0.0561287404868117</li>\n",
       "\t<li>0.851886782618879</li>\n",
       "</ol>\n"
      ],
      "text/latex": [
       "\\begin{enumerate}\n",
       "\\item 0.0583794556898233\n",
       "\\item 0.127208708001512\n",
       "\\item -0.0561287404868117\n",
       "\\item 0.851886782618879\n",
       "\\end{enumerate}\n"
      ],
      "text/markdown": [
       "1. 0.0583794556898233\n",
       "2. 0.127208708001512\n",
       "3. -0.0561287404868117\n",
       "4. 0.851886782618879\n",
       "\n",
       "\n"
      ],
      "text/plain": [
       "[[1]]\n",
       "[1] 0.05837946\n",
       "\n",
       "[[2]]\n",
       "[1] 0.1272087\n",
       "\n",
       "[[3]]\n",
       "[1] -0.05612874\n",
       "\n",
       "[[4]]\n",
       "[1] 0.8518868\n"
      ]
     },
     "metadata": {},
     "output_type": "display_data"
    }
   ],
   "source": [
    "# Q5\n",
    "# For the propensity score matched data: Which variable has the largest standardized difference?\n",
    "lapply(c('age', 'nodegree', 're74', 'black'), function(v) std_diff(matched, v, 'treat'))"
   ]
  },
  {
   "cell_type": "code",
   "execution_count": 65,
   "metadata": {
    "collapsed": true
   },
   "outputs": [],
   "source": [
    "# Q6\n",
    "# Re-do the matching, but use a caliper this time. Set the caliper=0.1 in the options in the Match function. Again, before running the Match function, set the seed: 931139\n",
    "# How many matched pairs are there? 有幾對\n",
    "# caliper -- 去除極端值\n",
    "set.seed(931139)\n",
    "pmatch <- Match(Tr = lalonde$treat, M=1, X=lalonde$pscore, replace=FALSE, caliper=0.1)\n",
    "matched <- lalonde[unlist(pmatch[c('index.treated', 'index.control')]), ]"
   ]
  },
  {
   "cell_type": "code",
   "execution_count": 66,
   "metadata": {},
   "outputs": [
    {
     "data": {
      "text/html": [
       "111"
      ],
      "text/latex": [
       "111"
      ],
      "text/markdown": [
       "111"
      ],
      "text/plain": [
       "[1] 111"
      ]
     },
     "metadata": {},
     "output_type": "display_data"
    }
   ],
   "source": [
    "nrow(matched)/2 "
   ]
  },
  {
   "cell_type": "code",
   "execution_count": 68,
   "metadata": {},
   "outputs": [
    {
     "data": {
      "text/html": [
       "1246.80623738739"
      ],
      "text/latex": [
       "1246.80623738739"
      ],
      "text/markdown": [
       "1246.80623738739"
      ],
      "text/plain": [
       "[1] 1246.806"
      ]
     },
     "metadata": {},
     "output_type": "display_data"
    }
   ],
   "source": [
    "# Q7\n",
    "# Use the matched data set (from propensity score matching with caliper=0.1) to carry out the outcome analysis.\n",
    "# For the matched data, what is the mean of real earnings in 1978 for treated subjects minus the mean of real earnings in 1978 for untreated subjects?\n",
    "mean(matched[matched$treat==1,]$re78) - mean(matched[matched$treat==0,]$re78)"
   ]
  },
  {
   "cell_type": "code",
   "execution_count": 69,
   "metadata": {},
   "outputs": [
    {
     "data": {
      "text/plain": [
       "\n",
       "\tPaired t-test\n",
       "\n",
       "data:  matched[matched$treat == 1, c(\"re78\")] and matched[matched$treat == 0, c(\"re78\")]\n",
       "t = 1.4824, df = 110, p-value = 0.1411\n",
       "alternative hypothesis: true difference in means is not equal to 0\n",
       "95 percent confidence interval:\n",
       " -420.0273 2913.6398\n",
       "sample estimates:\n",
       "mean of the differences \n",
       "               1246.806 \n"
      ]
     },
     "metadata": {},
     "output_type": "display_data"
    }
   ],
   "source": [
    "# Q8\n",
    "# Use the matched data set (from propensity score matching with caliper=0.1) to carry out the outcome analysis.\n",
    "# Carry out a paired t-test for the effect of treatment on earnings. What are the values of the 95% confidence interval?\n",
    "t.test(matched[matched$treat==1,c('re78')],\n",
    "       matched[matched$treat==0,c('re78')],\n",
    "       conf.level = 0.95, paired=TRUE)"
   ]
  },
  {
   "cell_type": "code",
   "execution_count": null,
   "metadata": {
    "collapsed": true
   },
   "outputs": [],
   "source": [
    "# <- : alt + -\n",
    "# <- 符號相當於Pytohn的=(賦值的意思)"
   ]
  }
 ],
 "metadata": {
  "kernelspec": {
   "display_name": "R",
   "language": "R",
   "name": "ir"
  },
  "language_info": {
   "codemirror_mode": "r",
   "file_extension": ".r",
   "mimetype": "text/x-r-source",
   "name": "R",
   "pygments_lexer": "r",
   "version": "4.0.3"
  }
 },
 "nbformat": 4,
 "nbformat_minor": 2
}
